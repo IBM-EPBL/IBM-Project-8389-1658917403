{
  "nbformat": 4,
  "nbformat_minor": 0,
  "metadata": {
    "colab": {
      "provenance": [],
      "authorship_tag": "ABX9TyOuLv+z6gWsIUx1vtYN7n5G",
      "include_colab_link": true
    },
    "kernelspec": {
      "name": "python3",
      "display_name": "Python 3"
    },
    "language_info": {
      "name": "python"
    }
  },
  "cells": [
    {
      "cell_type": "markdown",
      "metadata": {
        "id": "view-in-github",
        "colab_type": "text"
      },
      "source": [
        "<a href=\"https://colab.research.google.com/github/IBM-EPBL/IBM-Project-8389-1658917403/blob/main/921319205046_Janani_Assignment_3.ipynb\" target=\"_parent\"><img src=\"https://colab.research.google.com/assets/colab-badge.svg\" alt=\"Open In Colab\"/></a>"
      ]
    },
    {
      "cell_type": "markdown",
      "source": [
        "**Exercise**\n",
        "\n",
        "Answer the questions or complete the tasks outlined in bold below, use the specific method described if applicable."
      ],
      "metadata": {
        "id": "8pdIr03zsiuZ"
      }
    },
    {
      "cell_type": "code",
      "source": [
        "print(pow(7,4))"
      ],
      "metadata": {
        "colab": {
          "base_uri": "https://localhost:8080/"
        },
        "id": "4RfBOyDVswBS",
        "outputId": "1ee088f3-8cd4-4704-8799-930acab117d5"
      },
      "execution_count": 1,
      "outputs": [
        {
          "output_type": "stream",
          "name": "stdout",
          "text": [
            "2401\n"
          ]
        }
      ]
    },
    {
      "cell_type": "markdown",
      "source": [
        "** Split this string:**\n",
        "\n",
        "s = \"Hi there Sam!\"\n",
        "\n",
        "*into a list. *\n"
      ],
      "metadata": {
        "id": "bUSODY1Ntkrt"
      }
    },
    {
      "cell_type": "code",
      "source": [
        "s=\"Hi there Sam\"\n",
        "s.split(\" \");"
      ],
      "metadata": {
        "id": "fAQZlPvbt-Rm"
      },
      "execution_count": 3,
      "outputs": []
    },
    {
      "cell_type": "code",
      "source": [
        "s= \"Hi there dad!\"\n",
        "s.split(\" \");"
      ],
      "metadata": {
        "id": "Zix7bs0OuOKs"
      },
      "execution_count": 4,
      "outputs": []
    },
    {
      "cell_type": "markdown",
      "source": [
        "** Given the variables:**\n",
        "\n",
        "planet = \"Earth\"\n",
        "\n",
        "diameter = 12742\n",
        "\n",
        "** Use .format() to print the following string: **\n",
        "\n",
        "The diameter of Earth is 12742 kilometers."
      ],
      "metadata": {
        "id": "dqQ0wJ88uY6j"
      }
    },
    {
      "cell_type": "code",
      "source": [
        "planet = \"Earth\"\n",
        "diameter = 12742"
      ],
      "metadata": {
        "id": "d5nJC-zDuuU8"
      },
      "execution_count": 5,
      "outputs": []
    },
    {
      "cell_type": "code",
      "source": [
        "print(\"The diameter of \",planet,\" is \", diameter, \" kilometer.\")"
      ],
      "metadata": {
        "colab": {
          "base_uri": "https://localhost:8080/"
        },
        "id": "l335HU2pu7x3",
        "outputId": "be2e761b-ddd2-47ff-c205-4904f4498c18"
      },
      "execution_count": 6,
      "outputs": [
        {
          "output_type": "stream",
          "name": "stdout",
          "text": [
            "The diameter of  Earth  is  12742  kilometer.\n"
          ]
        }
      ]
    },
    {
      "cell_type": "markdown",
      "source": [
        "Given this nested list, use indexing to grab the word \"hello\""
      ],
      "metadata": {
        "id": "oZNnp-jXvYce"
      }
    },
    {
      "cell_type": "code",
      "source": [
        "lst = [1,2,[3,4],[5,[100,200,['hello']],23,11],1,7]"
      ],
      "metadata": {
        "id": "B8btTRn2va1Z"
      },
      "execution_count": 7,
      "outputs": []
    },
    {
      "cell_type": "code",
      "source": [
        "print(lst[3][1][2])"
      ],
      "metadata": {
        "colab": {
          "base_uri": "https://localhost:8080/"
        },
        "id": "mRgdjKwBvlkG",
        "outputId": "c531816f-84cd-4038-efd7-cd5f895b8228"
      },
      "execution_count": 9,
      "outputs": [
        {
          "output_type": "stream",
          "name": "stdout",
          "text": [
            "['hello']\n"
          ]
        }
      ]
    },
    {
      "cell_type": "markdown",
      "source": [
        "Given this nest dictionary grab the word \"hello\". Be prepared, this will be annoying/tricky"
      ],
      "metadata": {
        "id": "xCmxXJa6wGgd"
      }
    },
    {
      "cell_type": "code",
      "source": [
        "d = {'k1':[1,2,3,{'tricky':['oh','man','inception',{'target':[1,2,3,'hello']}]}]}"
      ],
      "metadata": {
        "id": "m5dI4x7KwJEl"
      },
      "execution_count": 10,
      "outputs": []
    },
    {
      "cell_type": "code",
      "source": [
        "tup =(1,2,3,4,5)\n",
        "print(\"tuple==>\",tup)\n",
        "lis=[1,2,3,4]\n",
        "print(\"List==>\",lis)"
      ],
      "metadata": {
        "colab": {
          "base_uri": "https://localhost:8080/"
        },
        "id": "k5GcduK9wPca",
        "outputId": "5ed8de13-c1c9-42fa-a103-81e0d0d49c16"
      },
      "execution_count": 11,
      "outputs": [
        {
          "output_type": "stream",
          "name": "stdout",
          "text": [
            "tuple==> (1, 2, 3, 4, 5)\n",
            "List==> [1, 2, 3, 4]\n"
          ]
        }
      ]
    },
    {
      "cell_type": "markdown",
      "source": [
        "What is the main difference between a tuple and a list?"
      ],
      "metadata": {
        "id": "tiOyWsyl5MWP"
      }
    },
    {
      "cell_type": "code",
      "source": [
        "# Tuple is immutable"
      ],
      "metadata": {
        "id": "lsYc0TdX5WxP"
      },
      "execution_count": 27,
      "outputs": []
    },
    {
      "cell_type": "markdown",
      "source": [
        "Create a function that grabs the email website domain from a string in the form:\n",
        "\n",
        "user@domain.com\n",
        "\n",
        "So for example, passing \"user@domain.com\" would return: domain.com"
      ],
      "metadata": {
        "id": "LlGuNlF4yHIF"
      }
    },
    {
      "cell_type": "code",
      "source": [
        "def domainGet(email):\n",
        "  return email.split('@')[-1]\n",
        "  "
      ],
      "metadata": {
        "id": "Moe1c6ZlyOOe"
      },
      "execution_count": 16,
      "outputs": []
    },
    {
      "cell_type": "code",
      "source": [
        "domainGet('user@domain.com')"
      ],
      "metadata": {
        "colab": {
          "base_uri": "https://localhost:8080/",
          "height": 36
        },
        "id": "CJiS__PA3X5i",
        "outputId": "febb056b-b4a8-440f-8964-4ff9eddf472c"
      },
      "execution_count": 17,
      "outputs": [
        {
          "output_type": "execute_result",
          "data": {
            "text/plain": [
              "'domain.com'"
            ],
            "application/vnd.google.colaboratory.intrinsic+json": {
              "type": "string"
            }
          },
          "metadata": {},
          "execution_count": 17
        }
      ]
    },
    {
      "cell_type": "markdown",
      "source": [
        "Create a basic function that returns True if the word 'dog' is contained in the input string. Don't worry about edge cases like a punctuation being attached to the word dog, but do account for capitalization"
      ],
      "metadata": {
        "id": "09XbMwke3l55"
      }
    },
    {
      "cell_type": "code",
      "source": [
        "def findDog(st):\n",
        "     return 'dog' in st.lower().split()"
      ],
      "metadata": {
        "id": "gGSgg7OT3msF"
      },
      "execution_count": 18,
      "outputs": []
    },
    {
      "cell_type": "code",
      "source": [
        "findDog('Is there a dog here?')"
      ],
      "metadata": {
        "colab": {
          "base_uri": "https://localhost:8080/"
        },
        "id": "FY3RixmA3r92",
        "outputId": "47794008-84ba-41de-eef0-ad294f79d9c3"
      },
      "execution_count": 19,
      "outputs": [
        {
          "output_type": "execute_result",
          "data": {
            "text/plain": [
              "True"
            ]
          },
          "metadata": {},
          "execution_count": 19
        }
      ]
    },
    {
      "cell_type": "markdown",
      "source": [
        "Create a function that counts the number of times the word \"dog\" occurs in a string. Again ignore edge cases."
      ],
      "metadata": {
        "id": "5Q_nhmZy3vr4"
      }
    },
    {
      "cell_type": "code",
      "source": [
        "def countDog(st):\n",
        "     count = 0\n",
        "     for word in st.lower().split():\n",
        "         if word == 'dog':\n",
        "             count += 1\n",
        "     return count"
      ],
      "metadata": {
        "id": "UVtWLNLx3w6L"
      },
      "execution_count": 20,
      "outputs": []
    },
    {
      "cell_type": "code",
      "source": [
        "countDog('This dog runs faster than the other dog dude!')"
      ],
      "metadata": {
        "colab": {
          "base_uri": "https://localhost:8080/"
        },
        "id": "S_dr7__B32-B",
        "outputId": "352ab07d-d000-44eb-d0e5-a553348d280c"
      },
      "execution_count": 21,
      "outputs": [
        {
          "output_type": "execute_result",
          "data": {
            "text/plain": [
              "2"
            ]
          },
          "metadata": {},
          "execution_count": 21
        }
      ]
    },
    {
      "cell_type": "markdown",
      "source": [
        "**Problem**\n",
        "\n",
        "*You are driving a little too fast, and a police officer stops you. Write a function to return one of 3 possible results: \"No ticket\", \"Small ticket\", or \"Big Ticket\". If your speed is 60 or less, the result is \"No Ticket\". If speed is between 61 and 80 inclusive, the result is \"Small Ticket\". If speed is 81 or more, the result is \"Big Ticket\". Unless it is your birthday (encoded as a boolean value in the parameters of the function) -- on your birthday, your speed can be 5 higher in all cases. "
      ],
      "metadata": {
        "id": "VgPh_trj4MFW"
      }
    },
    {
      "cell_type": "code",
      "source": [
        "def caught_speeding(speed, is_birthday):\n",
        "    \n",
        "    if is_birthday:\n",
        "        speeding = speed - 5\n",
        "    else:\n",
        "        speeding = speed\n",
        "    \n",
        "    if speeding > 80:\n",
        "        return 'Big Ticket'\n",
        "    elif speeding > 60:\n",
        "        return 'Small Ticket'\n",
        "    else:\n",
        "        return 'No Ticket'"
      ],
      "metadata": {
        "id": "H5uLe5oY4OBP"
      },
      "execution_count": 22,
      "outputs": []
    },
    {
      "cell_type": "code",
      "source": [
        "caught_speeding(81,False)"
      ],
      "metadata": {
        "colab": {
          "base_uri": "https://localhost:8080/",
          "height": 36
        },
        "id": "e5azKDS-4Xzl",
        "outputId": "e7dab07a-6cf2-4847-fb33-425c3ac8f98f"
      },
      "execution_count": 23,
      "outputs": [
        {
          "output_type": "execute_result",
          "data": {
            "text/plain": [
              "'Big Ticket'"
            ],
            "application/vnd.google.colaboratory.intrinsic+json": {
              "type": "string"
            }
          },
          "metadata": {},
          "execution_count": 23
        }
      ]
    },
    {
      "cell_type": "code",
      "source": [
        "caught_speeding(81,True)"
      ],
      "metadata": {
        "colab": {
          "base_uri": "https://localhost:8080/",
          "height": 36
        },
        "id": "YbR95SQF4bnA",
        "outputId": "18ae170d-3126-45bb-9e14-d6eb4669fb10"
      },
      "execution_count": 24,
      "outputs": [
        {
          "output_type": "execute_result",
          "data": {
            "text/plain": [
              "'Small Ticket'"
            ],
            "application/vnd.google.colaboratory.intrinsic+json": {
              "type": "string"
            }
          },
          "metadata": {},
          "execution_count": 24
        }
      ]
    },
    {
      "cell_type": "markdown",
      "source": [
        "Create an employee list with basic salary values(at least 5 values for 5 employees) and using a for loop retreive each employee salary and calculate total salary expenditure."
      ],
      "metadata": {
        "id": "Iz4DKGAS4gJP"
      }
    },
    {
      "cell_type": "code",
      "source": [
        "employee=[400,500,550,600,250]\n",
        "sum=0\n",
        "print (\"salaryof 1st person is\",employee[0])\n",
        "print (\"salaryof 2nd person is\",employee[1])\n",
        "print (\"salaryof 3rd person is\",employee[2])\n",
        "print (\"salaryof 4th person is\",employee[3])\n",
        "print (\"salaryof 5th person is\",employee[4])\n",
        "for x in employee:\n",
        "  sum=sum+x\n",
        "print(\"The total salary is\", sum)"
      ],
      "metadata": {
        "colab": {
          "base_uri": "https://localhost:8080/"
        },
        "id": "o06nn0CV4hnB",
        "outputId": "4ea7e106-3c5b-4fc5-ce2c-c2fde5ff29d7"
      },
      "execution_count": 25,
      "outputs": [
        {
          "output_type": "stream",
          "name": "stdout",
          "text": [
            "salaryof 1st person is 400\n",
            "salaryof 2nd person is 500\n",
            "salaryof 3rd person is 550\n",
            "salaryof 4th person is 600\n",
            "salaryof 5th person is 250\n",
            "The total salary is 2300\n"
          ]
        }
      ]
    },
    {
      "cell_type": "markdown",
      "source": [
        "Create two dictionaries in Python:\n",
        "\n",
        "First one to contain fields as Empid, Empname, Basicpay\n",
        "\n",
        "Second dictionary to contain fields as DeptName, DeptId.\n",
        "\n",
        "Combine both dictionaries."
      ],
      "metadata": {
        "id": "w1UsLK0u4m_4"
      }
    },
    {
      "cell_type": "code",
      "source": [
        "d1 = { \"Empid\":9213,\"Empname\":\"MaxAdam\",\"Basicpay\": 80000}\n",
        "d2 = {\"deptname\":\"Software Engineering\" , \"DEPTID\": '205'}\n",
        "print({**d1 , **d2})"
      ],
      "metadata": {
        "colab": {
          "base_uri": "https://localhost:8080/"
        },
        "id": "lK-a4fQG4oB5",
        "outputId": "ca2679d5-8383-4436-8d60-29f28b12150a"
      },
      "execution_count": 26,
      "outputs": [
        {
          "output_type": "stream",
          "name": "stdout",
          "text": [
            "{'Empid': 9213, 'Empname': 'MaxAdam', 'Basicpay': 80000, 'deptname': 'Software Engineering', 'DEPTID': '205'}\n"
          ]
        }
      ]
    }
  ]
}